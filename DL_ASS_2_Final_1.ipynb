{
  "nbformat": 4,
  "nbformat_minor": 0,
  "metadata": {
    "colab": {
      "provenance": [],
      "mount_file_id": "1ns3gH84SRZE1pj9CO96UWo83HoJgLUhb",
      "authorship_tag": "ABX9TyM6yUGM+EmlW1673sunygMy",
      "include_colab_link": true
    },
    "kernelspec": {
      "name": "python3",
      "display_name": "Python 3"
    },
    "language_info": {
      "name": "python"
    },
    "accelerator": "GPU",
    "gpuClass": "standard"
  },
  "cells": [
    {
      "cell_type": "markdown",
      "metadata": {
        "id": "view-in-github",
        "colab_type": "text"
      },
      "source": [
        "<a href=\"https://colab.research.google.com/github/adityamishra5050/Neural-network-on-the-Gurmukhi-dataset/blob/main/DL_ASS_2_Final_1.ipynb\" target=\"_parent\"><img src=\"https://colab.research.google.com/assets/colab-badge.svg\" alt=\"Open In Colab\"/></a>"
      ]
    },
    {
      "cell_type": "markdown",
      "source": [
        "#**Question 2 :**"
      ],
      "metadata": {
        "id": "UxJwnAqYyKNj"
      }
    },
    {
      "cell_type": "code",
      "execution_count": null,
      "metadata": {
        "id": "4ayhROMhXPOi"
      },
      "outputs": [],
      "source": [
        "import os                                 #importing pytorch , numpy and matplotlib libraries for different task\n",
        "import numpy as np                        # but the given task are implemented from scratch as directed in the Asssignment 1\n",
        "import torch\n",
        "import torch.nn as nn\n",
        "import torch.nn.functional as F\n",
        "from torch.autograd import Variable\n",
        "from torch.utils.data import DataLoader\n",
        "from sklearn.metrics import confusion_matrix\n",
        "import torch.utils.data as data\n",
        "import torchvision\n",
        "from torchvision import transforms\n",
        "import matplotlib.pyplot as plt\n",
        "from torch.utils.data import random_split\n",
        "from torchvision.utils import make_grid"
      ]
    },
    {
      "cell_type": "code",
      "source": [
        "transform_tensor = transforms.ToTensor() #Tensors are defined by their transformation properties under coordinate change"
      ],
      "metadata": {
        "id": "NEW2eaGwosZh"
      },
      "execution_count": null,
      "outputs": []
    },
    {
      "cell_type": "code",
      "source": [
        "# define the path for data extraction for val set\n",
        "given_folder_val_grumuki_path = '/content/drive/MyDrive/GurNum/val'\n",
        "# define the path for data extraction for training set\n",
        "given_folder_train_grumuki_path= '/content/drive/MyDrive/GurNum/train'"
      ],
      "metadata": {
        "id": "GH0k3pAHX0gl"
      },
      "execution_count": null,
      "outputs": []
    },
    {
      "cell_type": "code",
      "source": [
        "# namming the trainig data set as given below\n",
        "given_train_data = torchvision.datasets.ImageFolder(root = given_folder_train_grumuki_path , transform = transform_tensor )\n",
        "# namming the test data set as given below\n",
        "given_test_data = torchvision.datasets.ImageFolder(root = given_folder_val_grumuki_path , transform = transform_tensor )"
      ],
      "metadata": {
        "id": "Z1uhnVwFcXHF"
      },
      "execution_count": null,
      "outputs": []
    },
    {
      "cell_type": "code",
      "source": [
        "# length of trainig data\n",
        "len(given_train_data)"
      ],
      "metadata": {
        "id": "ff5RQdvzxDs2",
        "colab": {
          "base_uri": "https://localhost:8080/"
        },
        "outputId": "c00f8f06-1baa-4167-fb43-886e01117dca"
      },
      "execution_count": null,
      "outputs": [
        {
          "output_type": "execute_result",
          "data": {
            "text/plain": [
              "1000"
            ]
          },
          "metadata": {},
          "execution_count": 5
        }
      ]
    },
    {
      "cell_type": "code",
      "source": [
        "# length of testing data\n",
        "len(given_test_data)"
      ],
      "metadata": {
        "id": "YGnz4cCgxJUW",
        "colab": {
          "base_uri": "https://localhost:8080/"
        },
        "outputId": "81879e2c-c3f8-442f-abd1-1118b67b66db"
      },
      "execution_count": null,
      "outputs": [
        {
          "output_type": "execute_result",
          "data": {
            "text/plain": [
              "178"
            ]
          },
          "metadata": {},
          "execution_count": 6
        }
      ]
    },
    {
      "cell_type": "code",
      "source": [
        "# finding the label of classes\n",
        "classes = given_train_data.classes\n",
        "classes"
      ],
      "metadata": {
        "id": "3727tpp3ANOM",
        "colab": {
          "base_uri": "https://localhost:8080/"
        },
        "outputId": "84231baa-7fe0-4247-96d3-0988829ec58d"
      },
      "execution_count": null,
      "outputs": [
        {
          "output_type": "execute_result",
          "data": {
            "text/plain": [
              "['0', '1', '2', '3', '4', '5', '6', '7', '8', '9']"
            ]
          },
          "metadata": {},
          "execution_count": 7
        }
      ]
    },
    {
      "cell_type": "code",
      "source": [
        "torch.manual_seed(43)\n",
        "preffered_val_size = 100\n",
        "train_size = len(given_train_data) - preffered_val_size"
      ],
      "metadata": {
        "id": "U7p7q3ZhBqas"
      },
      "execution_count": null,
      "outputs": []
    },
    {
      "cell_type": "code",
      "source": [
        "# splitting the training data into training and validation set\n",
        "train_ds, val_ds = random_split(given_train_data, [train_size, preffered_val_size])\n",
        "# finding the length of training and validation set\n",
        "len(train_ds), len(val_ds)"
      ],
      "metadata": {
        "id": "5MEaVXluB_Ba",
        "colab": {
          "base_uri": "https://localhost:8080/"
        },
        "outputId": "f7455658-f6f5-4514-ce21-919ece15e2f8"
      },
      "execution_count": null,
      "outputs": [
        {
          "output_type": "execute_result",
          "data": {
            "text/plain": [
              "(900, 100)"
            ]
          },
          "metadata": {},
          "execution_count": 9
        }
      ]
    },
    {
      "cell_type": "code",
      "source": [
        "# defining the batch size of the data\n",
        "data_batch_size=50"
      ],
      "metadata": {
        "id": "pf0PkaKzCH5l"
      },
      "execution_count": null,
      "outputs": []
    },
    {
      "cell_type": "code",
      "source": [
        "# loading the training data for further processing\n",
        "data_train_loader = DataLoader(train_ds, data_batch_size, shuffle=True, num_workers=4, pin_memory=True)\n",
        "# loading the validation data for further processing\n",
        "data_val_loader = DataLoader(val_ds, data_batch_size*2, num_workers=4, pin_memory=True)\n",
        "# loading the testing data for further processing\n",
        "data_test_loader = DataLoader(given_test_data, data_batch_size*2, num_workers=4, pin_memory=True)"
      ],
      "metadata": {
        "id": "axsAKuqzCjXz",
        "colab": {
          "base_uri": "https://localhost:8080/"
        },
        "outputId": "42335d7a-4647-4490-db38-435ed61744e0"
      },
      "execution_count": null,
      "outputs": [
        {
          "output_type": "stream",
          "name": "stderr",
          "text": [
            "/usr/local/lib/python3.8/dist-packages/torch/utils/data/dataloader.py:554: UserWarning: This DataLoader will create 4 worker processes in total. Our suggested max number of worker in current system is 2, which is smaller than what this DataLoader is going to create. Please be aware that excessive worker creation might get DataLoader running slow or even freeze, lower the worker number to avoid potential slowness/freeze if necessary.\n",
            "  warnings.warn(_create_warning_msg(\n"
          ]
        }
      ]
    },
    {
      "cell_type": "code",
      "source": [
        "# for having a view for the given data\n",
        "for images, _ in data_train_loader:\n",
        "    print('images.shape:', images.shape)\n",
        "    plt.figure(figsize=(16,8))\n",
        "    plt.axis('off')\n",
        "    plt.imshow(make_grid(images, nrow=16).permute((1, 2, 0)))\n",
        "    break"
      ],
      "metadata": {
        "id": "TXg93QDnCqzq",
        "colab": {
          "base_uri": "https://localhost:8080/",
          "height": 274
        },
        "outputId": "e3c8d3ab-29fc-4976-cb03-e45ad615905f"
      },
      "execution_count": null,
      "outputs": [
        {
          "output_type": "stream",
          "name": "stdout",
          "text": [
            "images.shape: torch.Size([50, 3, 32, 32])\n"
          ]
        },
        {
          "output_type": "display_data",
          "data": {
            "text/plain": [
              "<Figure size 1152x576 with 1 Axes>"
            ],
            "image/png": "[encoded data removed]"
          },
          "metadata": {
            "needs_background": "light"
          }
        }
      ]
    },
    {
      "cell_type": "code",
      "source": [
        "# for finding out the accuracy of the model\n",
        "def model_accuracy(outputs, data_labels):\n",
        "    _, got_preds = torch.max(outputs, dim=1)\n",
        "    return torch.tensor(torch.sum(got_preds == data_labels).item() / len(got_preds))"
      ],
      "metadata": {
        "id": "QRCrh9v-DGba"
      },
      "execution_count": null,
      "outputs": []
    },
    {
      "cell_type": "markdown",
      "source": [
        "**1.) L1 regularization from scratch**"
      ],
      "metadata": {
        "id": "XufvRCOSo72N"
      }
    },
    {
      "cell_type": "code",
      "source": [
        "# creating a class GurmukhiClassification for the model training and other processing as defined below under the class\n",
        "# there are the folloeing functions included under the class\n",
        "# 1) model_training\n",
        "# 2) model_validation\n",
        "# 3) validation_epoch_end\n",
        "# 4) epoch_end\n",
        "class GurmukhiClassification(nn.Module):\n",
        "    def model_training(self, batch):\n",
        "        images, data_labels = batch\n",
        "        out = self(images)                  # for getting the predictions by the model\n",
        "        model_loss = F.cross_entropy(out, data_labels) # for getting the model_loss\n",
        "        l1regu = 0\n",
        "        for param in model.parameters() :\n",
        "          l1regu +=param.abs().sum()\n",
        "          lr_rate=0.00001\n",
        "        model_loss +=lr_rate*l1regu\n",
        "        return model_loss\n",
        "\n",
        "    def model_validation(self, batch):\n",
        "        images, data_labels = batch\n",
        "        out = self(images)                    # for getting the predictions by the model\n",
        "        model_loss = F.cross_entropy(out, data_labels)   #for getting the model_loss\n",
        "        acc = model_accuracy(out, data_labels)           # for getting the model_accuracy\n",
        "        return {'val_model_loss': model_loss.detach(), 'val_acc': acc}\n",
        "\n",
        "    def validation_epoch_end(self, outputs):\n",
        "        batch_model_losses = [x['val_model_loss'] for x in outputs]\n",
        "        epoch_model_loss = torch.stack(batch_model_losses).mean()   # for getting the model_loss\n",
        "        model_batch_accuracies = [x['val_acc'] for x in outputs]\n",
        "        model_epoch_accuracy = torch.stack(model_batch_accuracies).mean()      # for combining the model_accuracy\n",
        "        return {'val_model_loss': epoch_model_loss.item(), 'val_acc': model_epoch_accuracy.item()}\n",
        "\n",
        "    def epoch_end(self, epoch, model_result):\n",
        "        print(\"Epoch [{}], val_model_loss: {:.4f}, val_acc: {:.4f}\".format(epoch, model_result['val_model_loss'], model_result['val_acc']))"
      ],
      "metadata": {
        "id": "_l9PKInQDPfB"
      },
      "execution_count": null,
      "outputs": []
    },
    {
      "cell_type": "code",
      "source": [
        "# creating a class GRUNUMMODEL for applying the neural network ,there are 5 layers in which one input and output layer and three hidden lyers\n",
        "# And then we creted the two functions under this class as given below\n",
        "# __init__()\n",
        "# forward(,)\n",
        "class GRUNUMModel(GurmukhiClassification):\n",
        "    def __init__(self):\n",
        "        super().__init__()\n",
        "        self.linear1 = nn.Linear(input_size, 1024)\n",
        "        self.linear2 = nn.Linear(1024, 512)\n",
        "        self.linear3 = nn.Linear(512, 64)\n",
        "        self.linear4 = nn.Linear(64, 64)\n",
        "        self.linear5 = nn.Linear(64, output_size)\n",
        "\n",
        "    def forward(self, xb):\n",
        "        # Flatten images into vectors\n",
        "        out = xb.view(xb.size(0), -1)\n",
        "        out = self.linear1(out)\n",
        "        out = F.relu(out)\n",
        "        out = self.linear2(out)\n",
        "        out = F.relu(out)\n",
        "        out = self.linear3(out)\n",
        "        out = F.relu(out)\n",
        "        out = self.linear4(out)\n",
        "        out = F.relu(out)\n",
        "        out = self.linear5(out)\n",
        "        return out"
      ],
      "metadata": {
        "id": "WC7EGkYMkH2A"
      },
      "execution_count": null,
      "outputs": []
    },
    {
      "cell_type": "code",
      "source": [
        "#defining a function for the model evaluation\n",
        "def model_evaluation(model, data_val_loader):\n",
        "    outputs = [model.model_validation(batch) for batch in data_val_loader]\n",
        "    return model.validation_epoch_end(outputs)\n",
        "\n",
        "#defining a function for fitting the model in my data\n",
        "def model_insetion(epochs, lr, model, data_train_loader, data_val_loader, opt_func=torch.optim.SGD):\n",
        "    model_performance = []\n",
        "    model_optimizer = opt_func(model.parameters(), lr)\n",
        "    for epoch in range(20):\n",
        "        # This are the training steps\n",
        "        for batch in data_train_loader:\n",
        "            model_loss = model.model_training(batch)\n",
        "            model_loss.backward()\n",
        "            model_optimizer.step()\n",
        "            model_optimizer.zero_grad()\n",
        "        # This are the validation steps\n",
        "        model_result = model_evaluation(model, data_val_loader)\n",
        "        model.epoch_end(epoch, model_result)\n",
        "        model_performance.append(model_result)\n",
        "    return model_performance"
      ],
      "metadata": {
        "id": "Ot1B_hSBDZqJ"
      },
      "execution_count": null,
      "outputs": []
    },
    {
      "cell_type": "code",
      "source": [
        "torch.cuda.is_available()"
      ],
      "metadata": {
        "id": "GdJzDqz6Dgtc",
        "colab": {
          "base_uri": "https://localhost:8080/"
        },
        "outputId": "f7295282-4cf1-4ae6-99a4-0282897289c2"
      },
      "execution_count": null,
      "outputs": [
        {
          "output_type": "execute_result",
          "data": {
            "text/plain": [
              "True"
            ]
          },
          "metadata": {},
          "execution_count": 17
        }
      ]
    },
    {
      "cell_type": "code",
      "source": [
        "# defining a function for GPU processing\n",
        "def pick_device():\n",
        "    \"\"\"Pick GPU if available, else CPU\"\"\"\n",
        "    if torch.cuda.is_available():\n",
        "        return torch.device('cuda')\n",
        "    else:\n",
        "        return torch.device('cpu')"
      ],
      "metadata": {
        "id": "wSWsLb6IEmTD"
      },
      "execution_count": null,
      "outputs": []
    },
    {
      "cell_type": "code",
      "source": [
        "device = pick_device()\n",
        "device"
      ],
      "metadata": {
        "id": "onqCg1BLEnnu",
        "colab": {
          "base_uri": "https://localhost:8080/"
        },
        "outputId": "9ac079f2-def3-4dfd-e176-7bf5861089f5"
      },
      "execution_count": null,
      "outputs": [
        {
          "output_type": "execute_result",
          "data": {
            "text/plain": [
              "device(type='cuda')"
            ]
          },
          "metadata": {},
          "execution_count": 19
        }
      ]
    },
    {
      "cell_type": "code",
      "source": [
        "def to_device(data, device):\n",
        "    \"\"\"Move tensor(s) to chosen device\"\"\"\n",
        "    if isinstance(data, (list,tuple)):\n",
        "        return [to_device(x, device) for x in data]\n",
        "    return data.to(device, non_blocking=True)\n",
        "\n",
        "# creating a class for loading the whole data for GPU processing\n",
        "class DeviceDataLoader():\n",
        "    \"\"\"Wrap a dataloader to move data to a device\"\"\"\n",
        "    def __init__(self, dl, device):\n",
        "        self.dl = dl\n",
        "        self.device = device\n",
        "\n",
        "    def __iter__(self):\n",
        "        \"\"\"Yield a batch of data after moving it to device\"\"\"\n",
        "        for b in self.dl:\n",
        "            yield to_device(b, self.device)\n",
        "\n",
        "    def __len__(self):\n",
        "        \"\"\"Number of batches\"\"\"\n",
        "        return len(self.dl)"
      ],
      "metadata": {
        "id": "-vHVFq53EtcP"
      },
      "execution_count": null,
      "outputs": []
    },
    {
      "cell_type": "code",
      "source": [
        "# defining the function for getting the graph of the model performance of model loss\n",
        "def graph_of_model_losses(model_performance):\n",
        "    model_losses = [x['val_model_loss'] for x in model_performance]\n",
        "    plt.figure(figsize=(10,6))\n",
        "    plt.plot(model_losses, '-o')\n",
        "    plt.xlabel('epoch')\n",
        "    plt.ylabel('model_loss')\n",
        "    plt.title('model_loss vs. No. of epochs');"
      ],
      "metadata": {
        "id": "ffPiIBe9ExkH"
      },
      "execution_count": null,
      "outputs": []
    },
    {
      "cell_type": "code",
      "source": [
        "# defining the function for getting the graph of the model performance of model accuracy\n",
        "def graph_of_model_accuracies(ccuraciesmodel_performance):\n",
        "    accuracies = [x['val_acc'] for x in model_performance]\n",
        "    plt.figure(figsize=(10,6))\n",
        "    plt.plot(accuracies, '-o')\n",
        "    plt.xlabel('epoch')\n",
        "    plt.ylabel('accuracy')\n",
        "    plt.title('Accuracy vs. No. of epochs');"
      ],
      "metadata": {
        "id": "Y2dmvpuXE32a"
      },
      "execution_count": null,
      "outputs": []
    },
    {
      "cell_type": "code",
      "source": [
        "# loading the data_train to DeviceDataLoader\n",
        "data_train_loader = DeviceDataLoader(data_train_loader, device)\n",
        "# loading the data_val to DeviceDataLoader\n",
        "data_val_loader = DeviceDataLoader(data_val_loader, device)\n",
        "# loading the data_test to DeviceDataLoader\n",
        "data_test_loader = DeviceDataLoader(data_test_loader, device)"
      ],
      "metadata": {
        "id": "V5n3M4onE5nb"
      },
      "execution_count": null,
      "outputs": []
    },
    {
      "cell_type": "code",
      "source": [
        "input_size = 3*32*32\n",
        "output_size = 10"
      ],
      "metadata": {
        "id": "dN2rrYIPFJiF"
      },
      "execution_count": null,
      "outputs": []
    },
    {
      "cell_type": "code",
      "source": [
        "# defining the model to the name 'model'\n",
        "model = to_device(GRUNUMModel(), device)"
      ],
      "metadata": {
        "id": "pnQeB_orFPuj"
      },
      "execution_count": null,
      "outputs": []
    },
    {
      "cell_type": "code",
      "source": [
        "# finding out the model performance for forward pass\n",
        "model_performance = [model_evaluation(model, data_val_loader)]\n",
        "model_performance"
      ],
      "metadata": {
        "id": "QHhn84gdFTnR",
        "colab": {
          "base_uri": "https://localhost:8080/"
        },
        "outputId": "9c4483ab-4389-46a2-aeac-4602c28a77fc"
      },
      "execution_count": null,
      "outputs": [
        {
          "output_type": "execute_result",
          "data": {
            "text/plain": [
              "[{'val_model_loss': 2.3055484294891357, 'val_acc': 0.10999999940395355}]"
            ]
          },
          "metadata": {},
          "execution_count": 26
        }
      ]
    },
    {
      "cell_type": "code",
      "source": [
        "model_performance += model_insetion(10,0.01, model, data_train_loader, data_val_loader, torch.optim.Adam)"
      ],
      "metadata": {
        "id": "W8MDUrY5FWyS",
        "colab": {
          "base_uri": "https://localhost:8080/"
        },
        "outputId": "d9c257a4-f9cc-4306-8eeb-c9452f32ea63"
      },
      "execution_count": null,
      "outputs": [
        {
          "output_type": "stream",
          "name": "stdout",
          "text": [
            "Epoch [0], val_model_loss: 2.2195, val_acc: 0.0600\n",
            "Epoch [1], val_model_loss: 1.6687, val_acc: 0.3500\n",
            "Epoch [2], val_model_loss: 1.3158, val_acc: 0.5200\n",
            "Epoch [3], val_model_loss: 0.9600, val_acc: 0.5000\n",
            "Epoch [4], val_model_loss: 0.9571, val_acc: 0.6300\n",
            "Epoch [5], val_model_loss: 1.1089, val_acc: 0.6200\n",
            "Epoch [6], val_model_loss: 0.5404, val_acc: 0.7700\n",
            "Epoch [7], val_model_loss: 0.6695, val_acc: 0.7000\n",
            "Epoch [8], val_model_loss: 0.4828, val_acc: 0.8300\n",
            "Epoch [9], val_model_loss: 0.4844, val_acc: 0.8500\n",
            "Epoch [10], val_model_loss: 0.4464, val_acc: 0.8300\n",
            "Epoch [11], val_model_loss: 0.3747, val_acc: 0.8700\n",
            "Epoch [12], val_model_loss: 0.5583, val_acc: 0.7800\n",
            "Epoch [13], val_model_loss: 0.2658, val_acc: 0.9100\n",
            "Epoch [14], val_model_loss: 0.2212, val_acc: 0.9400\n",
            "Epoch [15], val_model_loss: 0.2598, val_acc: 0.9300\n",
            "Epoch [16], val_model_loss: 1.0708, val_acc: 0.7700\n",
            "Epoch [17], val_model_loss: 0.6057, val_acc: 0.8500\n",
            "Epoch [18], val_model_loss: 0.4794, val_acc: 0.8800\n",
            "Epoch [19], val_model_loss: 0.3705, val_acc: 0.8700\n"
          ]
        }
      ]
    },
    {
      "cell_type": "code",
      "source": [
        "model_performance += model_insetion(20, 0.001 , model, data_train_loader, data_val_loader, torch.optim.Adam)"
      ],
      "metadata": {
        "id": "gtNTWJN6FtaJ",
        "colab": {
          "base_uri": "https://localhost:8080/"
        },
        "outputId": "624b887c-412a-4513-cb43-bad5dadf8523"
      },
      "execution_count": null,
      "outputs": [
        {
          "output_type": "stream",
          "name": "stdout",
          "text": [
            "Epoch [0], val_model_loss: 0.2753, val_acc: 0.9200\n",
            "Epoch [1], val_model_loss: 0.2106, val_acc: 0.9300\n",
            "Epoch [2], val_model_loss: 0.3044, val_acc: 0.9100\n",
            "Epoch [3], val_model_loss: 0.2733, val_acc: 0.9400\n",
            "Epoch [4], val_model_loss: 0.2672, val_acc: 0.9400\n",
            "Epoch [5], val_model_loss: 0.2485, val_acc: 0.9500\n",
            "Epoch [6], val_model_loss: 0.2091, val_acc: 0.9500\n",
            "Epoch [7], val_model_loss: 0.2417, val_acc: 0.9500\n",
            "Epoch [8], val_model_loss: 0.2500, val_acc: 0.9500\n",
            "Epoch [9], val_model_loss: 0.2924, val_acc: 0.9400\n",
            "Epoch [10], val_model_loss: 0.3027, val_acc: 0.9500\n",
            "Epoch [11], val_model_loss: 0.2500, val_acc: 0.9500\n",
            "Epoch [12], val_model_loss: 0.2714, val_acc: 0.9300\n",
            "Epoch [13], val_model_loss: 0.2263, val_acc: 0.9500\n",
            "Epoch [14], val_model_loss: 0.2273, val_acc: 0.9500\n",
            "Epoch [15], val_model_loss: 0.2345, val_acc: 0.9500\n",
            "Epoch [16], val_model_loss: 0.2444, val_acc: 0.9500\n",
            "Epoch [17], val_model_loss: 0.2530, val_acc: 0.9500\n",
            "Epoch [18], val_model_loss: 0.2585, val_acc: 0.9500\n",
            "Epoch [19], val_model_loss: 0.2565, val_acc: 0.9500\n"
          ]
        }
      ]
    },
    {
      "cell_type": "code",
      "source": [
        "model_performance += model_insetion(10, 0.00001, model, data_train_loader, data_val_loader, torch.optim.Adam)"
      ],
      "metadata": {
        "id": "HYXnMASwFxlj",
        "colab": {
          "base_uri": "https://localhost:8080/"
        },
        "outputId": "b4ac9ab7-a75d-4533-d840-e9c1b23752f8"
      },
      "execution_count": null,
      "outputs": [
        {
          "output_type": "stream",
          "name": "stdout",
          "text": [
            "Epoch [0], val_model_loss: 0.2582, val_acc: 0.9500\n",
            "Epoch [1], val_model_loss: 0.2595, val_acc: 0.9500\n",
            "Epoch [2], val_model_loss: 0.2606, val_acc: 0.9500\n",
            "Epoch [3], val_model_loss: 0.2611, val_acc: 0.9500\n",
            "Epoch [4], val_model_loss: 0.2609, val_acc: 0.9500\n",
            "Epoch [5], val_model_loss: 0.2613, val_acc: 0.9500\n",
            "Epoch [6], val_model_loss: 0.2615, val_acc: 0.9500\n",
            "Epoch [7], val_model_loss: 0.2618, val_acc: 0.9500\n",
            "Epoch [8], val_model_loss: 0.2621, val_acc: 0.9500\n",
            "Epoch [9], val_model_loss: 0.2618, val_acc: 0.9500\n",
            "Epoch [10], val_model_loss: 0.2624, val_acc: 0.9500\n",
            "Epoch [11], val_model_loss: 0.2620, val_acc: 0.9500\n",
            "Epoch [12], val_model_loss: 0.2619, val_acc: 0.9500\n",
            "Epoch [13], val_model_loss: 0.2621, val_acc: 0.9500\n",
            "Epoch [14], val_model_loss: 0.2626, val_acc: 0.9500\n",
            "Epoch [15], val_model_loss: 0.2624, val_acc: 0.9500\n",
            "Epoch [16], val_model_loss: 0.2625, val_acc: 0.9500\n",
            "Epoch [17], val_model_loss: 0.2622, val_acc: 0.9500\n",
            "Epoch [18], val_model_loss: 0.2630, val_acc: 0.9500\n",
            "Epoch [19], val_model_loss: 0.2623, val_acc: 0.9500\n"
          ]
        }
      ]
    },
    {
      "cell_type": "code",
      "source": [
        "model_performance += model_insetion(10, 0.000001, model, data_train_loader, data_val_loader, torch.optim.Adam)"
      ],
      "metadata": {
        "id": "TCDOQoO5F675",
        "colab": {
          "base_uri": "https://localhost:8080/"
        },
        "outputId": "249bd5f6-3adf-442d-d5fe-c27195cd70dd"
      },
      "execution_count": null,
      "outputs": [
        {
          "output_type": "stream",
          "name": "stdout",
          "text": [
            "Epoch [0], val_model_loss: 0.2623, val_acc: 0.9500\n",
            "Epoch [1], val_model_loss: 0.2624, val_acc: 0.9500\n",
            "Epoch [2], val_model_loss: 0.2623, val_acc: 0.9500\n",
            "Epoch [3], val_model_loss: 0.2624, val_acc: 0.9500\n",
            "Epoch [4], val_model_loss: 0.2624, val_acc: 0.9500\n",
            "Epoch [5], val_model_loss: 0.2624, val_acc: 0.9500\n",
            "Epoch [6], val_model_loss: 0.2625, val_acc: 0.9500\n",
            "Epoch [7], val_model_loss: 0.2625, val_acc: 0.9500\n",
            "Epoch [8], val_model_loss: 0.2625, val_acc: 0.9500\n",
            "Epoch [9], val_model_loss: 0.2625, val_acc: 0.9500\n",
            "Epoch [10], val_model_loss: 0.2625, val_acc: 0.9500\n",
            "Epoch [11], val_model_loss: 0.2626, val_acc: 0.9500\n",
            "Epoch [12], val_model_loss: 0.2626, val_acc: 0.9500\n",
            "Epoch [13], val_model_loss: 0.2626, val_acc: 0.9500\n",
            "Epoch [14], val_model_loss: 0.2626, val_acc: 0.9500\n",
            "Epoch [15], val_model_loss: 0.2627, val_acc: 0.9500\n",
            "Epoch [16], val_model_loss: 0.2626, val_acc: 0.9500\n",
            "Epoch [17], val_model_loss: 0.2626, val_acc: 0.9500\n",
            "Epoch [18], val_model_loss: 0.2627, val_acc: 0.9500\n",
            "Epoch [19], val_model_loss: 0.2627, val_acc: 0.9500\n"
          ]
        }
      ]
    },
    {
      "cell_type": "code",
      "source": [
        "graph_of_model_losses(model_performance)"
      ],
      "metadata": {
        "id": "pjd2L8klGAZw",
        "colab": {
          "base_uri": "https://localhost:8080/",
          "height": 404
        },
        "outputId": "191b2e68-c075-4cd0-d932-c64168c6b4cc"
      },
      "execution_count": null,
      "outputs": [
        {
          "output_type": "display_data",
          "data": {
            "text/plain": [
              "<Figure size 720x432 with 1 Axes>"
            ],
            "image/png": "[encoded data removed]"
          },
          "metadata": {
            "needs_background": "light"
          }
        }
      ]
    },
    {
      "cell_type": "code",
      "source": [
        "graph_of_model_accuracies(model_performance)"
      ],
      "metadata": {
        "id": "3dv4JI8tHVIP",
        "colab": {
          "base_uri": "https://localhost:8080/",
          "height": 404
        },
        "outputId": "506ce03a-43c0-472a-a842-ab7929fd23f6"
      },
      "execution_count": null,
      "outputs": [
        {
          "output_type": "display_data",
          "data": {
            "text/plain": [
              "<Figure size 720x432 with 1 Axes>"
            ],
            "image/png": "[encoded data removed]"
          },
          "metadata": {
            "needs_background": "light"
          }
        }
      ]
    },
    {
      "cell_type": "code",
      "source": [
        "model_evaluation(model, data_test_loader)"
      ],
      "metadata": {
        "id": "QmGckaXAHkHk",
        "colab": {
          "base_uri": "https://localhost:8080/"
        },
        "outputId": "24305ecd-aaf5-41e7-ac3a-08da71374d91"
      },
      "execution_count": null,
      "outputs": [
        {
          "output_type": "execute_result",
          "data": {
            "text/plain": [
              "{'val_model_loss': 0.32646894454956055, 'val_acc': 0.9471794962882996}"
            ]
          },
          "metadata": {},
          "execution_count": 33
        }
      ]
    },
    {
      "cell_type": "markdown",
      "source": [
        "**2.) L2 regularization from scratch**"
      ],
      "metadata": {
        "id": "xvPpYwotpMqv"
      }
    },
    {
      "cell_type": "code",
      "source": [
        "class GurmukhiClassification1(nn.Module):\n",
        "    def model_training(self, batch):\n",
        "        images, data_labels = batch\n",
        "        out = self(images)                  # Generate predictions\n",
        "        model_loss = F.cross_entropy(out, data_labels) # Calculate model_loss\n",
        "        l1regu = 0\n",
        "        for param in model.parameters() :\n",
        "          l1regu +=param.pow(2.0).sum()\n",
        "          lr_rate=0.0001\n",
        "        model_loss +=lr_rate*l1regu\n",
        "        return model_loss\n",
        "\n",
        "    def model_validation(self, batch):\n",
        "        images, data_labels = batch\n",
        "        out = self(images)                    # Generate predictions\n",
        "        model_loss = F.cross_entropy(out, data_labels)   # Calculate model_loss\n",
        "        acc = model_accuracy(out, data_labels)           # Calculate accuracy\n",
        "        return {'val_model_loss': model_loss.detach(), 'val_acc': acc}\n",
        "\n",
        "    def validation_epoch_end(self, outputs):\n",
        "        batch_model_losses = [x['val_model_loss'] for x in outputs]\n",
        "        epoch_model_loss = torch.stack(batch_model_losses).mean()   # Combine model_losses\n",
        "        model_batch_accuracies = [x['val_acc'] for x in outputs]\n",
        "        model_epoch_accuracy = torch.stack(model_batch_accuracies).mean()      # Combine accuracies\n",
        "        return {'val_model_loss': epoch_model_loss.item(), 'val_acc': model_epoch_accuracy.item()}\n",
        "\n",
        "    def epoch_end(self, epoch, model_result):\n",
        "        print(\"Epoch [{}], val_model_loss: {:.4f}, val_acc: {:.4f}\".format(epoch, model_result['val_model_loss'], model_result['val_acc']))"
      ],
      "metadata": {
        "id": "iMG_bVPWEy7q"
      },
      "execution_count": null,
      "outputs": []
    },
    {
      "cell_type": "code",
      "source": [
        "class GRUNUMModel(GurmukhiClassification1):\n",
        "    def __init__(self):\n",
        "        super().__init__()\n",
        "        self.linear1 = nn.Linear(input_size, 1024)\n",
        "        self.linear2 = nn.Linear(1024, 512)\n",
        "        self.linear3 = nn.Linear(512, 64)\n",
        "        self.linear4 = nn.Linear(64, 64)\n",
        "        self.linear5 = nn.Linear(64, output_size)\n",
        "\n",
        "    def forward(self, xb):\n",
        "        # Flatten images into vectors\n",
        "        out = xb.view(xb.size(0), -1)\n",
        "        out = self.linear1(out)\n",
        "        out = F.relu(out)\n",
        "        out = self.linear2(out)\n",
        "        out = F.relu(out)\n",
        "        out = self.linear3(out)\n",
        "        out = F.relu(out)\n",
        "        out = self.linear4(out)\n",
        "        out = F.relu(out)\n",
        "        out = self.linear5(out)\n",
        "        return out"
      ],
      "metadata": {
        "id": "Sve6L1wTjpMt"
      },
      "execution_count": null,
      "outputs": []
    },
    {
      "cell_type": "code",
      "source": [
        "model = to_device(GRUNUMModel(), device)"
      ],
      "metadata": {
        "id": "1DzHaq2HqNXF"
      },
      "execution_count": null,
      "outputs": []
    },
    {
      "cell_type": "code",
      "source": [
        "model_performance = [model_evaluation(model, data_val_loader)]\n",
        "model_performance"
      ],
      "metadata": {
        "id": "lcw9HORcqOob",
        "colab": {
          "base_uri": "https://localhost:8080/"
        },
        "outputId": "dd6a9e3e-644a-41b7-9de5-54692a016de3"
      },
      "execution_count": null,
      "outputs": [
        {
          "output_type": "execute_result",
          "data": {
            "text/plain": [
              "[{'val_model_loss': 2.3056740760803223, 'val_acc': 0.10999999940395355}]"
            ]
          },
          "metadata": {},
          "execution_count": 37
        }
      ]
    },
    {
      "cell_type": "code",
      "source": [
        "model_performance += model_insetion(10,0.01, model, data_train_loader, data_val_loader, torch.optim.Adam)"
      ],
      "metadata": {
        "id": "YshyREkSqjoL",
        "colab": {
          "base_uri": "https://localhost:8080/"
        },
        "outputId": "30271d9a-4579-450a-efe5-63bf47de46f7"
      },
      "execution_count": null,
      "outputs": [
        {
          "output_type": "stream",
          "name": "stdout",
          "text": [
            "Epoch [0], val_model_loss: 2.5390, val_acc: 0.1300\n",
            "Epoch [1], val_model_loss: 2.0872, val_acc: 0.1600\n",
            "Epoch [2], val_model_loss: 2.3369, val_acc: 0.0600\n",
            "Epoch [3], val_model_loss: 2.3251, val_acc: 0.0600\n",
            "Epoch [4], val_model_loss: 2.3167, val_acc: 0.0600\n",
            "Epoch [5], val_model_loss: 2.3127, val_acc: 0.1000\n",
            "Epoch [6], val_model_loss: 2.3115, val_acc: 0.0800\n",
            "Epoch [7], val_model_loss: 2.3110, val_acc: 0.0600\n",
            "Epoch [8], val_model_loss: 2.3098, val_acc: 0.0600\n",
            "Epoch [9], val_model_loss: 2.3108, val_acc: 0.0300\n",
            "Epoch [10], val_model_loss: 2.3106, val_acc: 0.0600\n",
            "Epoch [11], val_model_loss: 2.3090, val_acc: 0.0600\n",
            "Epoch [12], val_model_loss: 2.3092, val_acc: 0.0600\n",
            "Epoch [13], val_model_loss: 2.3106, val_acc: 0.0600\n",
            "Epoch [14], val_model_loss: 2.3105, val_acc: 0.0600\n",
            "Epoch [15], val_model_loss: 2.3102, val_acc: 0.0600\n",
            "Epoch [16], val_model_loss: 2.3097, val_acc: 0.0600\n",
            "Epoch [17], val_model_loss: 2.3104, val_acc: 0.0600\n",
            "Epoch [18], val_model_loss: 2.3090, val_acc: 0.0600\n",
            "Epoch [19], val_model_loss: 2.3094, val_acc: 0.0800\n"
          ]
        }
      ]
    },
    {
      "cell_type": "code",
      "source": [
        "model_performance += model_insetion(20, 0.001 , model, data_train_loader, data_val_loader, torch.optim.Adam)"
      ],
      "metadata": {
        "id": "Xr7uT-vRq-rA",
        "colab": {
          "base_uri": "https://localhost:8080/"
        },
        "outputId": "299780e0-b1ff-4808-8fbd-3859d2593173"
      },
      "execution_count": null,
      "outputs": [
        {
          "output_type": "stream",
          "name": "stdout",
          "text": [
            "Epoch [0], val_model_loss: 2.3097, val_acc: 0.0800\n",
            "Epoch [1], val_model_loss: 2.3092, val_acc: 0.0800\n",
            "Epoch [2], val_model_loss: 1.9877, val_acc: 0.1900\n",
            "Epoch [3], val_model_loss: 1.6661, val_acc: 0.3400\n",
            "Epoch [4], val_model_loss: 1.3556, val_acc: 0.4200\n",
            "Epoch [5], val_model_loss: 1.4798, val_acc: 0.3200\n",
            "Epoch [6], val_model_loss: 1.2658, val_acc: 0.4300\n",
            "Epoch [7], val_model_loss: 1.1577, val_acc: 0.5100\n",
            "Epoch [8], val_model_loss: 1.0924, val_acc: 0.5000\n",
            "Epoch [9], val_model_loss: 1.0225, val_acc: 0.5400\n",
            "Epoch [10], val_model_loss: 1.0250, val_acc: 0.5500\n",
            "Epoch [11], val_model_loss: 0.8827, val_acc: 0.5300\n",
            "Epoch [12], val_model_loss: 0.7527, val_acc: 0.6300\n",
            "Epoch [13], val_model_loss: 0.5969, val_acc: 0.7400\n",
            "Epoch [14], val_model_loss: 0.5965, val_acc: 0.7200\n",
            "Epoch [15], val_model_loss: 0.4614, val_acc: 0.8100\n",
            "Epoch [16], val_model_loss: 0.4767, val_acc: 0.8100\n",
            "Epoch [17], val_model_loss: 0.3401, val_acc: 0.8500\n",
            "Epoch [18], val_model_loss: 0.6366, val_acc: 0.7700\n",
            "Epoch [19], val_model_loss: 0.3375, val_acc: 0.8800\n"
          ]
        }
      ]
    },
    {
      "cell_type": "code",
      "source": [
        "model_performance += model_insetion(10, 0.00001, model, data_train_loader, data_val_loader, torch.optim.Adam)"
      ],
      "metadata": {
        "id": "-nVicuRWq_lg",
        "colab": {
          "base_uri": "https://localhost:8080/"
        },
        "outputId": "9b09e4e1-0dc6-4fb7-8b29-9849ef5fa8dd"
      },
      "execution_count": null,
      "outputs": [
        {
          "output_type": "stream",
          "name": "stdout",
          "text": [
            "Epoch [0], val_model_loss: 0.3222, val_acc: 0.9000\n",
            "Epoch [1], val_model_loss: 0.3111, val_acc: 0.9100\n",
            "Epoch [2], val_model_loss: 0.3076, val_acc: 0.9000\n",
            "Epoch [3], val_model_loss: 0.3023, val_acc: 0.9000\n",
            "Epoch [4], val_model_loss: 0.2998, val_acc: 0.9100\n",
            "Epoch [5], val_model_loss: 0.2962, val_acc: 0.9100\n",
            "Epoch [6], val_model_loss: 0.2936, val_acc: 0.9100\n",
            "Epoch [7], val_model_loss: 0.2921, val_acc: 0.9100\n",
            "Epoch [8], val_model_loss: 0.2910, val_acc: 0.9100\n",
            "Epoch [9], val_model_loss: 0.2895, val_acc: 0.9100\n",
            "Epoch [10], val_model_loss: 0.2912, val_acc: 0.9100\n",
            "Epoch [11], val_model_loss: 0.2879, val_acc: 0.9100\n",
            "Epoch [12], val_model_loss: 0.2887, val_acc: 0.9100\n",
            "Epoch [13], val_model_loss: 0.2861, val_acc: 0.9100\n",
            "Epoch [14], val_model_loss: 0.2880, val_acc: 0.9100\n",
            "Epoch [15], val_model_loss: 0.2848, val_acc: 0.9100\n",
            "Epoch [16], val_model_loss: 0.2853, val_acc: 0.9100\n",
            "Epoch [17], val_model_loss: 0.2841, val_acc: 0.9100\n",
            "Epoch [18], val_model_loss: 0.2837, val_acc: 0.9100\n",
            "Epoch [19], val_model_loss: 0.2830, val_acc: 0.9100\n"
          ]
        }
      ]
    },
    {
      "cell_type": "code",
      "source": [
        "model_performance += model_insetion(10, 0.000001, model, data_train_loader, data_val_loader, torch.optim.Adam)"
      ],
      "metadata": {
        "id": "k1ISAMDFrO9K",
        "colab": {
          "base_uri": "https://localhost:8080/"
        },
        "outputId": "e51d6d05-bb80-4cf7-88dd-54792914f3e0"
      },
      "execution_count": null,
      "outputs": [
        {
          "output_type": "stream",
          "name": "stdout",
          "text": [
            "Epoch [0], val_model_loss: 0.2831, val_acc: 0.9100\n",
            "Epoch [1], val_model_loss: 0.2834, val_acc: 0.9100\n",
            "Epoch [2], val_model_loss: 0.2837, val_acc: 0.9100\n",
            "Epoch [3], val_model_loss: 0.2833, val_acc: 0.9100\n",
            "Epoch [4], val_model_loss: 0.2832, val_acc: 0.9100\n",
            "Epoch [5], val_model_loss: 0.2836, val_acc: 0.9100\n",
            "Epoch [6], val_model_loss: 0.2834, val_acc: 0.9100\n",
            "Epoch [7], val_model_loss: 0.2829, val_acc: 0.9100\n",
            "Epoch [8], val_model_loss: 0.2833, val_acc: 0.9100\n",
            "Epoch [9], val_model_loss: 0.2833, val_acc: 0.9100\n",
            "Epoch [10], val_model_loss: 0.2831, val_acc: 0.9100\n",
            "Epoch [11], val_model_loss: 0.2831, val_acc: 0.9100\n",
            "Epoch [12], val_model_loss: 0.2832, val_acc: 0.9100\n",
            "Epoch [13], val_model_loss: 0.2834, val_acc: 0.9100\n",
            "Epoch [14], val_model_loss: 0.2833, val_acc: 0.9100\n",
            "Epoch [15], val_model_loss: 0.2828, val_acc: 0.9100\n",
            "Epoch [16], val_model_loss: 0.2828, val_acc: 0.9100\n",
            "Epoch [17], val_model_loss: 0.2827, val_acc: 0.9100\n",
            "Epoch [18], val_model_loss: 0.2828, val_acc: 0.9100\n",
            "Epoch [19], val_model_loss: 0.2827, val_acc: 0.9100\n"
          ]
        }
      ]
    },
    {
      "cell_type": "code",
      "source": [
        "graph_of_model_losses(model_performance)"
      ],
      "metadata": {
        "id": "tKE3NSElrV_S",
        "colab": {
          "base_uri": "https://localhost:8080/",
          "height": 404
        },
        "outputId": "4d2060e5-0c6a-4019-e23c-a8906120dddf"
      },
      "execution_count": null,
      "outputs": [
        {
          "output_type": "display_data",
          "data": {
            "text/plain": [
              "<Figure size 720x432 with 1 Axes>"
            ],
            "image/png": "[encoded data removed]"
          },
          "metadata": {
            "needs_background": "light"
          }
        }
      ]
    },
    {
      "cell_type": "code",
      "source": [
        "graph_of_model_accuracies(model_performance)"
      ],
      "metadata": {
        "id": "Ioc38_9wra-7",
        "colab": {
          "base_uri": "https://localhost:8080/",
          "height": 404
        },
        "outputId": "f32d6e12-3a69-47a0-af04-afe53aa412a1"
      },
      "execution_count": null,
      "outputs": [
        {
          "output_type": "display_data",
          "data": {
            "text/plain": [
              "<Figure size 720x432 with 1 Axes>"
            ],
            "image/png": "[encoded data removed]"
          },
          "metadata": {
            "needs_background": "light"
          }
        }
      ]
    },
    {
      "cell_type": "code",
      "source": [
        "model_evaluation(model, data_test_loader)"
      ],
      "metadata": {
        "id": "FjddKMtcrgFG",
        "colab": {
          "base_uri": "https://localhost:8080/"
        },
        "outputId": "4d442574-c0c7-4097-ec7f-e96bfe44e25c"
      },
      "execution_count": null,
      "outputs": [
        {
          "output_type": "execute_result",
          "data": {
            "text/plain": [
              "{'val_model_loss': 0.5981614589691162, 'val_acc': 0.8151282072067261}"
            ]
          },
          "metadata": {},
          "execution_count": 44
        }
      ]
    },
    {
      "cell_type": "markdown",
      "source": [
        "**3) Dropout from scratch**"
      ],
      "metadata": {
        "id": "tDzSdFw5yQxI"
      }
    },
    {
      "cell_type": "code",
      "source": [
        "class GRUNUMModel(GurmukhiClassification):\n",
        "    def __init__(self):\n",
        "        super().__init__()\n",
        "        self.linear1 = nn.Linear(input_size, 1024)\n",
        "        self.linear2 = nn.Linear(1024, 512)\n",
        "        self.linear3 = nn.Linear(512, 64)\n",
        "        self.linear4 = nn.Linear(64, 64)\n",
        "        self.linear5 = nn.Linear(64, output_size)\n",
        "        self.dropout = nn.Dropout(0.25)\n",
        "\n",
        "    def forward(self, xb):\n",
        "        # Flatten images into vectors\n",
        "        out = xb.view(xb.size(0), -1)\n",
        "        out = self.linear1(out)\n",
        "        out = F.relu(out)\n",
        "        out = self.dropout(out)\n",
        "        out = self.linear2(out)\n",
        "        out = F.relu(out)\n",
        "        out = self.linear3(out)\n",
        "        out = F.relu(out)\n",
        "        out = self.linear4(out)\n",
        "        out = F.relu(out)\n",
        "        out = self.linear5(out)\n",
        "        return out"
      ],
      "metadata": {
        "id": "wTIPL9Bd2Plm"
      },
      "execution_count": null,
      "outputs": []
    },
    {
      "cell_type": "code",
      "source": [
        "class GurmukhiClassification(nn.Module):\n",
        "    def model_training(self, batch):\n",
        "        images, data_labels = batch\n",
        "        out = self(images)                  # Generate predictions\n",
        "        model_loss = F.cross_entropy(out, data_labels) # Calculate model_loss\n",
        "        return model_loss\n",
        "\n",
        "    def model_validation(self, batch):\n",
        "        images, data_labels = batch\n",
        "        out = self(images)                    # Generate predictions\n",
        "        lambda2 = 0.01\n",
        "        # all_linear2_params = torch.cat([x.view(-1) for x in model.linear2.parameters()])\n",
        "        # l2_regularization = lambda2 * torch.norm(all_linear2_params, 2)\n",
        "        # model_loss = F.cross_entropy(out, data_labels) + l2_regularization  # Calculate model_loss\n",
        "        model_loss = F.cross_entropy(out, data_labels)\n",
        "        acc = model_accuracy(out, data_labels)           # Calculate accuracy\n",
        "        return {'val_model_loss': model_loss.detach(), 'val_acc': acc}\n",
        "\n",
        "    def validation_epoch_end(self, outputs):\n",
        "        batch_model_losses = [x['val_model_loss'] for x in outputs]\n",
        "        epoch_model_loss = torch.stack(batch_model_losses).mean()   # Combine model_losses\n",
        "        model_batch_accuracies = [x['val_acc'] for x in outputs]\n",
        "        model_epoch_accuracy = torch.stack(model_batch_accuracies).mean()      # Combine accuracies\n",
        "        return {'val_model_loss': epoch_model_loss.item(), 'val_acc': model_epoch_accuracy.item()}\n",
        "\n",
        "    def epoch_end(self, epoch, model_result):\n",
        "        print(\"Epoch [{}], val_model_loss: {:.4f}, val_acc: {:.4f}\".format(epoch, model_result['val_model_loss'], model_result['val_acc']))"
      ],
      "metadata": {
        "id": "Phji9SoH9cCo"
      },
      "execution_count": null,
      "outputs": []
    },
    {
      "cell_type": "code",
      "source": [
        "model = to_device(GRUNUMModel(), device)"
      ],
      "metadata": {
        "id": "bHuv8unv9eoo"
      },
      "execution_count": null,
      "outputs": []
    },
    {
      "cell_type": "code",
      "source": [
        "model_performance = [model_evaluation(model, data_val_loader)]\n",
        "model_performance"
      ],
      "metadata": {
        "id": "bTNrcmaQ9pF4",
        "colab": {
          "base_uri": "https://localhost:8080/"
        },
        "outputId": "a60718b7-a9bb-4f6b-e45e-64e1bef1b390"
      },
      "execution_count": null,
      "outputs": [
        {
          "output_type": "execute_result",
          "data": {
            "text/plain": [
              "[{'val_model_loss': 2.303032159805298, 'val_acc': 0.07999999821186066}]"
            ]
          },
          "metadata": {},
          "execution_count": 48
        }
      ]
    },
    {
      "cell_type": "code",
      "source": [
        "model_performance += model_insetion(10,0.01, model, data_train_loader, data_val_loader, torch.optim.Adam)"
      ],
      "metadata": {
        "id": "tKK-9DHq9rEf",
        "colab": {
          "base_uri": "https://localhost:8080/"
        },
        "outputId": "59408d1e-dcea-4df4-96e0-e75421a77962"
      },
      "execution_count": null,
      "outputs": [
        {
          "output_type": "stream",
          "name": "stdout",
          "text": [
            "Epoch [0], val_model_loss: 2.2910, val_acc: 0.1100\n",
            "Epoch [1], val_model_loss: 1.7416, val_acc: 0.2500\n",
            "Epoch [2], val_model_loss: 1.5116, val_acc: 0.3400\n",
            "Epoch [3], val_model_loss: 1.3533, val_acc: 0.3800\n",
            "Epoch [4], val_model_loss: 1.0603, val_acc: 0.6000\n",
            "Epoch [5], val_model_loss: 0.8003, val_acc: 0.6400\n",
            "Epoch [6], val_model_loss: 0.8455, val_acc: 0.6000\n",
            "Epoch [7], val_model_loss: 0.6910, val_acc: 0.6600\n",
            "Epoch [8], val_model_loss: 0.8236, val_acc: 0.5800\n",
            "Epoch [9], val_model_loss: 0.6453, val_acc: 0.6600\n",
            "Epoch [10], val_model_loss: 0.4279, val_acc: 0.8100\n",
            "Epoch [11], val_model_loss: 0.6309, val_acc: 0.7400\n",
            "Epoch [12], val_model_loss: 0.5837, val_acc: 0.7800\n",
            "Epoch [13], val_model_loss: 0.4373, val_acc: 0.8000\n",
            "Epoch [14], val_model_loss: 0.5169, val_acc: 0.7900\n",
            "Epoch [15], val_model_loss: 0.6643, val_acc: 0.7600\n",
            "Epoch [16], val_model_loss: 0.5265, val_acc: 0.7800\n",
            "Epoch [17], val_model_loss: 0.5151, val_acc: 0.7900\n",
            "Epoch [18], val_model_loss: 0.4264, val_acc: 0.8100\n",
            "Epoch [19], val_model_loss: 0.5742, val_acc: 0.7400\n"
          ]
        }
      ]
    },
    {
      "cell_type": "code",
      "source": [
        "model_performance += model_insetion(20, 0.001 , model, data_train_loader, data_val_loader, torch.optim.Adam)"
      ],
      "metadata": {
        "id": "jVX3X5AL96Lz",
        "colab": {
          "base_uri": "https://localhost:8080/"
        },
        "outputId": "882acc9e-2a22-4077-bfa7-580d39d290c9"
      },
      "execution_count": null,
      "outputs": [
        {
          "output_type": "stream",
          "name": "stdout",
          "text": [
            "Epoch [0], val_model_loss: 0.3576, val_acc: 0.8200\n",
            "Epoch [1], val_model_loss: 0.3692, val_acc: 0.8300\n",
            "Epoch [2], val_model_loss: 0.2259, val_acc: 0.8500\n",
            "Epoch [3], val_model_loss: 0.3908, val_acc: 0.8300\n",
            "Epoch [4], val_model_loss: 0.4007, val_acc: 0.8400\n",
            "Epoch [5], val_model_loss: 0.3882, val_acc: 0.8000\n",
            "Epoch [6], val_model_loss: 0.2991, val_acc: 0.8200\n",
            "Epoch [7], val_model_loss: 0.2635, val_acc: 0.8500\n",
            "Epoch [8], val_model_loss: 0.2624, val_acc: 0.8500\n",
            "Epoch [9], val_model_loss: 0.3163, val_acc: 0.8400\n",
            "Epoch [10], val_model_loss: 0.2358, val_acc: 0.8600\n",
            "Epoch [11], val_model_loss: 0.2659, val_acc: 0.8800\n",
            "Epoch [12], val_model_loss: 0.4950, val_acc: 0.8300\n",
            "Epoch [13], val_model_loss: 0.1989, val_acc: 0.8800\n",
            "Epoch [14], val_model_loss: 0.2626, val_acc: 0.8600\n",
            "Epoch [15], val_model_loss: 0.3408, val_acc: 0.8600\n",
            "Epoch [16], val_model_loss: 0.3069, val_acc: 0.8300\n",
            "Epoch [17], val_model_loss: 0.2644, val_acc: 0.8600\n",
            "Epoch [18], val_model_loss: 0.3452, val_acc: 0.8600\n",
            "Epoch [19], val_model_loss: 0.2337, val_acc: 0.8700\n"
          ]
        }
      ]
    },
    {
      "cell_type": "code",
      "source": [
        "model_performance += model_insetion(10, 0.00001, model, data_train_loader, data_val_loader, torch.optim.Adam)"
      ],
      "metadata": {
        "colab": {
          "base_uri": "https://localhost:8080/"
        },
        "id": "B4mBwCdO97CT",
        "outputId": "4cd74b0f-d47c-4b1d-ab60-6a0e7f17e342"
      },
      "execution_count": null,
      "outputs": [
        {
          "output_type": "stream",
          "name": "stdout",
          "text": [
            "Epoch [0], val_model_loss: 0.2643, val_acc: 0.8600\n",
            "Epoch [1], val_model_loss: 0.2503, val_acc: 0.9000\n",
            "Epoch [2], val_model_loss: 0.2249, val_acc: 0.8800\n",
            "Epoch [3], val_model_loss: 0.3981, val_acc: 0.8500\n",
            "Epoch [4], val_model_loss: 0.2173, val_acc: 0.9000\n",
            "Epoch [5], val_model_loss: 0.2819, val_acc: 0.8600\n",
            "Epoch [6], val_model_loss: 0.2026, val_acc: 0.8800\n",
            "Epoch [7], val_model_loss: 0.2295, val_acc: 0.8800\n",
            "Epoch [8], val_model_loss: 0.2959, val_acc: 0.8700\n",
            "Epoch [9], val_model_loss: 0.2139, val_acc: 0.8700\n",
            "Epoch [10], val_model_loss: 0.2624, val_acc: 0.8700\n",
            "Epoch [11], val_model_loss: 0.2338, val_acc: 0.8700\n",
            "Epoch [12], val_model_loss: 0.2363, val_acc: 0.8900\n",
            "Epoch [13], val_model_loss: 0.2489, val_acc: 0.8700\n",
            "Epoch [14], val_model_loss: 0.2162, val_acc: 0.9100\n",
            "Epoch [15], val_model_loss: 0.2113, val_acc: 0.9000\n",
            "Epoch [16], val_model_loss: 0.2331, val_acc: 0.9100\n",
            "Epoch [17], val_model_loss: 0.2575, val_acc: 0.8900\n",
            "Epoch [18], val_model_loss: 0.2650, val_acc: 0.8900\n",
            "Epoch [19], val_model_loss: 0.2447, val_acc: 0.9000\n"
          ]
        }
      ]
    },
    {
      "cell_type": "code",
      "source": [
        "model_performance += model_insetion(10, 0.000001, model, data_train_loader, data_val_loader, torch.optim.Adam)"
      ],
      "metadata": {
        "id": "F80jKbT7-Mt-",
        "colab": {
          "base_uri": "https://localhost:8080/"
        },
        "outputId": "d1fc7818-ffc9-48a6-bbdd-542516eba21e"
      },
      "execution_count": null,
      "outputs": [
        {
          "output_type": "stream",
          "name": "stdout",
          "text": [
            "Epoch [0], val_model_loss: 0.2551, val_acc: 0.9000\n",
            "Epoch [1], val_model_loss: 0.2374, val_acc: 0.8900\n",
            "Epoch [2], val_model_loss: 0.2813, val_acc: 0.8600\n",
            "Epoch [3], val_model_loss: 0.2459, val_acc: 0.8800\n",
            "Epoch [4], val_model_loss: 0.2348, val_acc: 0.8900\n",
            "Epoch [5], val_model_loss: 0.2858, val_acc: 0.8900\n",
            "Epoch [6], val_model_loss: 0.2054, val_acc: 0.9100\n",
            "Epoch [7], val_model_loss: 0.2088, val_acc: 0.9100\n",
            "Epoch [8], val_model_loss: 0.2718, val_acc: 0.9200\n",
            "Epoch [9], val_model_loss: 0.2736, val_acc: 0.8800\n",
            "Epoch [10], val_model_loss: 0.2564, val_acc: 0.8600\n",
            "Epoch [11], val_model_loss: 0.2153, val_acc: 0.9100\n",
            "Epoch [12], val_model_loss: 0.3399, val_acc: 0.8900\n",
            "Epoch [13], val_model_loss: 0.2798, val_acc: 0.8700\n",
            "Epoch [14], val_model_loss: 0.1909, val_acc: 0.8800\n",
            "Epoch [15], val_model_loss: 0.2913, val_acc: 0.8500\n",
            "Epoch [16], val_model_loss: 0.2360, val_acc: 0.8700\n",
            "Epoch [17], val_model_loss: 0.1853, val_acc: 0.9000\n",
            "Epoch [18], val_model_loss: 0.2302, val_acc: 0.9100\n",
            "Epoch [19], val_model_loss: 0.2212, val_acc: 0.9100\n"
          ]
        }
      ]
    },
    {
      "cell_type": "code",
      "source": [
        "graph_of_model_losses(model_performance)"
      ],
      "metadata": {
        "id": "aZ9h_NjV-Q_4",
        "colab": {
          "base_uri": "https://localhost:8080/",
          "height": 54
        },
        "outputId": "fe657b18-130b-4dfa-a53b-07c0e833b8d6"
      },
      "execution_count": null,
      "outputs": [
        {
          "output_type": "display_data",
          "data": {
            "text/plain": [
              "<Figure size 720x432 with 1 Axes>"
            ],
            "image/png": "[encoded data removed]"
          },
          "metadata": {
            "needs_background": "light"
          }
        }
      ]
    },
    {
      "cell_type": "code",
      "source": [
        "graph_of_model_accuracies(model_performance)"
      ],
      "metadata": {
        "id": "WlDDhyga-R8p",
        "colab": {
          "base_uri": "https://localhost:8080/",
          "height": 54
        },
        "outputId": "45c8b973-ba0c-4887-d5f1-afcf689177b8"
      },
      "execution_count": null,
      "outputs": [
        {
          "output_type": "display_data",
          "data": {
            "text/plain": [
              "<Figure size 720x432 with 1 Axes>"
            ],
            "image/png": "[encoded data removed]"
          },
          "metadata": {
            "needs_background": "light"
          }
        }
      ]
    },
    {
      "cell_type": "code",
      "source": [
        "model_evaluation(model, data_test_loader)"
      ],
      "metadata": {
        "id": "9bsOwiWh-d1y",
        "colab": {
          "base_uri": "https://localhost:8080/"
        },
        "outputId": "1f89af0a-90fd-49d3-817b-ccd0d1291c35"
      },
      "execution_count": null,
      "outputs": [
        {
          "output_type": "execute_result",
          "data": {
            "text/plain": [
              "{'val_model_loss': 0.3804469704627991, 'val_acc': 0.8843590021133423}"
            ]
          },
          "metadata": {},
          "execution_count": 55
        }
      ]
    }
  ]
}